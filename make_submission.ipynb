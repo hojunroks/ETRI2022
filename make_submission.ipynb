{
 "cells": [
  {
   "cell_type": "code",
   "execution_count": 1,
   "id": "0ba162a8",
   "metadata": {},
   "outputs": [],
   "source": [
    "import csv\n",
    "import os\n",
    "user_id = [1, 2, 3, 4, 5, 6, 7, 8, 9, 10, 11, 12, 21, 22, 23, 24, 25, 26, 27, 28, 29, 30]"
   ]
  },
  {
   "cell_type": "code",
   "execution_count": 2,
   "id": "8807d5be",
   "metadata": {},
   "outputs": [],
   "source": [
    "# for GT:\n",
    "\n",
    "for i, uid in enumerate(user_id):\n",
    "    fname = './prediction/USER_%s_gt_act.csv'%(uid)\n",
    "    f = open(fname, 'r', encoding='utf-8')\n",
    "    rdr = csv.reader(f)\n",
    "\n",
    "    for line in rdr:\n",
    "        if i == 0:\n",
    "            GT_list = line\n",
    "        else:\n",
    "            GT_list += line\n",
    "    f.close()"
   ]
  },
  {
   "cell_type": "code",
   "execution_count": 3,
   "id": "65b23c2f",
   "metadata": {},
   "outputs": [],
   "source": [
    "def make_pred_list(model_name):\n",
    "    for i, uid in enumerate(user_id):\n",
    "        fname = './prediction/USER_%s_pred_act_%s.csv'%(uid, model_name)\n",
    "        f = open(fname, 'r', encoding='utf-8')\n",
    "        rdr = csv.reader(f)\n",
    "\n",
    "        for line in rdr:\n",
    "            if i == 0:\n",
    "                pred_list = line\n",
    "            else:\n",
    "                pred_list += line\n",
    "        f.close()\n",
    "    return pred_list\n",
    "\n",
    "pred_list_mlp = make_pred_list('mlp')\n",
    "pred_list_lstm = make_pred_list('lstm')\n",
    "pred_list_bilstm = make_pred_list('bilstm')\n",
    "pred_list_transformer = make_pred_list('transformer')"
   ]
  },
  {
   "cell_type": "code",
   "execution_count": 4,
   "id": "650cea37",
   "metadata": {},
   "outputs": [],
   "source": [
    "# save csv files\n",
    "def save_csv(fname, output):\n",
    "    f = open(fname, \"w\")\n",
    "    csv_writer = csv.writer(f)\n",
    "    csv_writer.writerow(output)\n",
    "    f.close()"
   ]
  },
  {
   "cell_type": "code",
   "execution_count": 5,
   "id": "5c193de6",
   "metadata": {},
   "outputs": [],
   "source": [
    "save_csv('./output/gt.csv', GT_list)\n",
    "save_csv('./output/pred_mlp.csv', pred_list_mlp)\n",
    "save_csv('./output/pred_lstm.csv', pred_list_lstm)\n",
    "save_csv('./output/pred_bilstm.csv', pred_list_bilstm)\n",
    "save_csv('./output/pred_transformer_maxep200.csv', pred_list_transformer)"
   ]
  },
  {
   "cell_type": "code",
   "execution_count": null,
   "id": "0f4ba290",
   "metadata": {},
   "outputs": [],
   "source": []
  }
 ],
 "metadata": {
  "kernelspec": {
   "display_name": "Python 3",
   "language": "python",
   "name": "python3"
  },
  "language_info": {
   "codemirror_mode": {
    "name": "ipython",
    "version": 3
   },
   "file_extension": ".py",
   "mimetype": "text/x-python",
   "name": "python",
   "nbconvert_exporter": "python",
   "pygments_lexer": "ipython3",
   "version": "3.6.9"
  }
 },
 "nbformat": 4,
 "nbformat_minor": 5
}

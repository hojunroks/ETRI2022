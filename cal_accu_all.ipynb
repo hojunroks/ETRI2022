{
 "cells": [
  {
   "cell_type": "code",
   "execution_count": 1,
   "id": "a458432c",
   "metadata": {},
   "outputs": [],
   "source": [
    "import os\n",
    "import numpy as np"
   ]
  },
  {
   "cell_type": "code",
   "execution_count": 4,
   "id": "22ae261e",
   "metadata": {},
   "outputs": [],
   "source": [
    "user_id = [1, 2, 3, 4, 5, 6, 7, 8, 9, 10, 11, 12, 21, 22, 23, 24, 25, 26, 27, 28, 29, 30]\n",
    "num_data_list = [277, 174, 369, 437, 361, 426, 405, 249, 484, 324, 430, 441, 365, 323, 414, 474, 471, 485, 330, 390, 242, 297]\n",
    "num_data_dict = {}\n",
    "\n",
    "for i, user in enumerate(user_id):\n",
    "    num_data_dict[user] = num_data_list[i]"
   ]
  },
  {
   "cell_type": "code",
   "execution_count": 3,
   "id": "7c3de84b",
   "metadata": {},
   "outputs": [
    {
     "name": "stdout",
     "output_type": "stream",
     "text": [
      "['LSTM_USER_10_c11_lr1e-05_wd0.01_dr0.4', 'LSTM_USER_10_c11_lr1e-05_wd0.01_dr0.4_bi', 'LSTM_USER_10_c11_lr1e-05_wd0.01_dr0.4_bi_s15', 'LSTM_USER_11_c11_lr1e-05_wd0.01_dr0.4', 'LSTM_USER_11_c11_lr1e-05_wd0.01_dr0.4_bi', 'LSTM_USER_11_c11_lr1e-05_wd0.01_dr0.4_bi_s15', 'LSTM_USER_12_c13_lr1e-05_wd0.01_dr0.4', 'LSTM_USER_12_c13_lr1e-05_wd0.01_dr0.4_bi', 'LSTM_USER_12_c13_lr1e-05_wd0.01_dr0.4_bi_s15', 'LSTM_USER_1_c15_lr1e-05_wd0.01_dr0.4', 'LSTM_USER_1_c15_lr1e-05_wd0.01_dr0.4_bi', 'LSTM_USER_1_c15_lr1e-05_wd0.01_dr0.4_bi_s15', 'LSTM_USER_21_c13_lr1e-05_wd0.01_dr0.4', 'LSTM_USER_21_c13_lr1e-05_wd0.01_dr0.4_bi', 'LSTM_USER_21_c13_lr1e-05_wd0.01_dr0.4_bi_s15', 'LSTM_USER_22_c12_lr1e-05_wd0.01_dr0.4', 'LSTM_USER_22_c12_lr1e-05_wd0.01_dr0.4_bi', 'LSTM_USER_22_c12_lr1e-05_wd0.01_dr0.4_bi_s15', 'LSTM_USER_23_c13_lr1e-05_wd0.01_dr0.4', 'LSTM_USER_23_c13_lr1e-05_wd0.01_dr0.4_bi', 'LSTM_USER_23_c13_lr1e-05_wd0.01_dr0.4_bi_s15', 'LSTM_USER_24_c15_lr1e-05_wd0.01_dr0.4', 'LSTM_USER_24_c15_lr1e-05_wd0.01_dr0.4_bi', 'LSTM_USER_24_c15_lr1e-05_wd0.01_dr0.4_bi_s15', 'LSTM_USER_25_c13_lr1e-05_wd0.01_dr0.4', 'LSTM_USER_25_c13_lr1e-05_wd0.01_dr0.4_bi', 'LSTM_USER_25_c13_lr1e-05_wd0.01_dr0.4_bi_s15', 'LSTM_USER_26_c14_lr1e-05_wd0.01_dr0.4', 'LSTM_USER_26_c14_lr1e-05_wd0.01_dr0.4_bi', 'LSTM_USER_26_c14_lr1e-05_wd0.01_dr0.4_bi_s15', 'LSTM_USER_27_c12_lr1e-05_wd0.01_dr0.4', 'LSTM_USER_27_c12_lr1e-05_wd0.01_dr0.4_bi', 'LSTM_USER_27_c12_lr1e-05_wd0.01_dr0.4_bi_s15', 'LSTM_USER_28_c12_lr1e-05_wd0.01_dr0.4', 'LSTM_USER_28_c12_lr1e-05_wd0.01_dr0.4_bi', 'LSTM_USER_28_c12_lr1e-05_wd0.01_dr0.4_bi_s15', 'LSTM_USER_29_c12_lr1e-05_wd0.01_dr0.4', 'LSTM_USER_29_c12_lr1e-05_wd0.01_dr0.4_bi', 'LSTM_USER_29_c12_lr1e-05_wd0.01_dr0.4_bi_s15', 'LSTM_USER_2_c10_lr1e-05_wd0.01_dr0.4', 'LSTM_USER_2_c10_lr1e-05_wd0.01_dr0.4_bi', 'LSTM_USER_2_c10_lr1e-05_wd0.01_dr0.4_bi_s15', 'LSTM_USER_30_c9_lr1e-05_wd0.01_dr0.4', 'LSTM_USER_30_c9_lr1e-05_wd0.01_dr0.4_bi', 'LSTM_USER_30_c9_lr1e-05_wd0.01_dr0.4_bi_s15', 'LSTM_USER_3_c13_lr1e-05_wd0.01_dr0.4', 'LSTM_USER_3_c13_lr1e-05_wd0.01_dr0.4_bi', 'LSTM_USER_3_c13_lr1e-05_wd0.01_dr0.4_bi_s15', 'LSTM_USER_4_c11_lr1e-05_wd0.01_dr0.4', 'LSTM_USER_4_c11_lr1e-05_wd0.01_dr0.4_bi', 'LSTM_USER_4_c11_lr1e-05_wd0.01_dr0.4_bi_s15', 'LSTM_USER_5_c11_lr1e-05_wd0.01_dr0.4', 'LSTM_USER_5_c11_lr1e-05_wd0.01_dr0.4_bi', 'LSTM_USER_5_c11_lr1e-05_wd0.01_dr0.4_bi_s15', 'LSTM_USER_6_c12_lr1e-05_wd0.01_dr0.4', 'LSTM_USER_6_c12_lr1e-05_wd0.01_dr0.4_bi', 'LSTM_USER_6_c12_lr1e-05_wd0.01_dr0.4_bi_s15', 'LSTM_USER_7_c11_lr1e-05_wd0.01_dr0.4', 'LSTM_USER_7_c11_lr1e-05_wd0.01_dr0.4_bi', 'LSTM_USER_7_c11_lr1e-05_wd0.01_dr0.4_bi_s15', 'LSTM_USER_8_c16_lr1e-05_wd0.01_dr0.4', 'LSTM_USER_8_c16_lr1e-05_wd0.01_dr0.4_bi', 'LSTM_USER_8_c16_lr1e-05_wd0.01_dr0.4_bi_s15', 'LSTM_USER_9_c15_lr1e-05_wd0.01_dr0.4', 'LSTM_USER_9_c15_lr1e-05_wd0.01_dr0.4_bi', 'LSTM_USER_9_c15_lr1e-05_wd0.01_dr0.4_bi_s15', 'MLP_USER_10_c11_lr1e-05_wd0.01_dr0.4', 'MLP_USER_11_c11_lr1e-05_wd0.01_dr0.4', 'MLP_USER_12_c13_lr1e-05_wd0.01_dr0.4', 'MLP_USER_1_c15_lr1e-05_wd0.01_dr0.4', 'MLP_USER_21_c13_lr1e-05_wd0.01_dr0.4', 'MLP_USER_22_c12_lr1e-05_wd0.01_dr0.4', 'MLP_USER_23_c13_lr1e-05_wd0.01_dr0.4', 'MLP_USER_24_c15_lr1e-05_wd0.01_dr0.4', 'MLP_USER_25_c13_lr1e-05_wd0.01_dr0.4', 'MLP_USER_26_c14_lr1e-05_wd0.01_dr0.4', 'MLP_USER_27_c12_lr1e-05_wd0.01_dr0.4', 'MLP_USER_28_c12_lr1e-05_wd0.01_dr0.4', 'MLP_USER_29_c12_lr1e-05_wd0.01_dr0.4', 'MLP_USER_2_c10_lr1e-05_wd0.01_dr0.4', 'MLP_USER_30_c9_lr1e-05_wd0.01_dr0.4', 'MLP_USER_3_c13_lr1e-05_wd0.01_dr0.4', 'MLP_USER_4_c11_lr1e-05_wd0.01_dr0.4', 'MLP_USER_5_c11_lr1e-05_wd0.01_dr0.4', 'MLP_USER_6_c12_lr1e-05_wd0.01_dr0.4', 'MLP_USER_7_c11_lr1e-05_wd0.01_dr0.4', 'MLP_USER_8_c16_lr1e-05_wd0.01_dr0.4', 'MLP_USER_9_c15_lr1e-05_wd0.01_dr0.4', 'USER_10_c11_dh16_dm16_he4_l3_lr1e-05_wd0.01_dr0.4_nosche_s10', 'USER_10_c11_dh16_dm16_he4_l3_lr1e-05_wd0.01_dr0.4_nosche_s10_es41', 'USER_10_c11_dh16_dm16_he4_l3_lr1e-05_wd0.01_dr0.4_nosche_s10_es41_fin', 'USER_10_c11_dh16_dm16_he4_l3_lr1e-05_wd0.01_dr0.4_nosche_s10_es41_fin_mep300', 'USER_10_c11_dh16_dm16_he4_l3_lr1e-05_wd0.01_dr0.4_nosche_s15_es41', 'USER_11_c11_dh16_dm16_he4_l3_lr1e-05_wd0.01_dr0.4_nosche_s10', 'USER_11_c11_dh16_dm16_he4_l3_lr1e-05_wd0.01_dr0.4_nosche_s10_es41', 'USER_11_c11_dh16_dm16_he4_l3_lr1e-05_wd0.01_dr0.4_nosche_s10_es41_fin', 'USER_11_c11_dh16_dm16_he4_l3_lr1e-05_wd0.01_dr0.4_nosche_s10_es41_fin_mep300', 'USER_11_c11_dh16_dm16_he4_l3_lr1e-05_wd0.01_dr0.4_nosche_s15_es41', 'USER_12_c13_dh16_dm16_he4_l3_lr1e-05_wd0.01_dr0.4_nosche_s10', 'USER_12_c13_dh16_dm16_he4_l3_lr1e-05_wd0.01_dr0.4_nosche_s10_es41', 'USER_12_c13_dh16_dm16_he4_l3_lr1e-05_wd0.01_dr0.4_nosche_s10_es41_fin', 'USER_12_c13_dh16_dm16_he4_l3_lr1e-05_wd0.01_dr0.4_nosche_s10_es41_fin_mep300', 'USER_12_c13_dh16_dm16_he4_l3_lr1e-05_wd0.01_dr0.4_nosche_s15_es41', 'USER_1_c15_dh16_dm16_he4_l3_lr1e-05_wd0.01_dr0.4_nosche_s10', 'USER_1_c15_dh16_dm16_he4_l3_lr1e-05_wd0.01_dr0.4_nosche_s10_es41', 'USER_1_c15_dh16_dm16_he4_l3_lr1e-05_wd0.01_dr0.4_nosche_s10_es41_fin', 'USER_1_c15_dh16_dm16_he4_l3_lr1e-05_wd0.01_dr0.4_nosche_s10_es41_fin_mep300', 'USER_1_c15_dh16_dm16_he4_l3_lr1e-05_wd0.01_dr0.4_nosche_s15_es41_re', 'USER_21_c13_dh16_dm16_he4_l3_lr1e-05_wd0.01_dr0.4_nosche_s10', 'USER_21_c13_dh16_dm16_he4_l3_lr1e-05_wd0.01_dr0.4_nosche_s10_es41', 'USER_21_c13_dh16_dm16_he4_l3_lr1e-05_wd0.01_dr0.4_nosche_s10_es41_fin', 'USER_21_c13_dh16_dm16_he4_l3_lr1e-05_wd0.01_dr0.4_nosche_s10_es41_fin_mep300', 'USER_21_c13_dh16_dm16_he4_l3_lr1e-05_wd0.01_dr0.4_nosche_s15_es41', 'USER_22_c12_dh16_dm16_he4_l3_lr1e-05_wd0.01_dr0.4_nosche_s10', 'USER_22_c12_dh16_dm16_he4_l3_lr1e-05_wd0.01_dr0.4_nosche_s10_es41', 'USER_22_c12_dh16_dm16_he4_l3_lr1e-05_wd0.01_dr0.4_nosche_s10_es41_fin', 'USER_22_c12_dh16_dm16_he4_l3_lr1e-05_wd0.01_dr0.4_nosche_s10_es41_fin_mep300', 'USER_22_c12_dh16_dm16_he4_l3_lr1e-05_wd0.01_dr0.4_nosche_s15_es41', 'USER_23_c13_dh16_dm16_he4_l3_lr1e-05_wd0.01_dr0.4_nosche_s10', 'USER_23_c13_dh16_dm16_he4_l3_lr1e-05_wd0.01_dr0.4_nosche_s10_es41', 'USER_23_c13_dh16_dm16_he4_l3_lr1e-05_wd0.01_dr0.4_nosche_s10_es41_fin', 'USER_23_c13_dh16_dm16_he4_l3_lr1e-05_wd0.01_dr0.4_nosche_s10_es41_fin_mep300', 'USER_23_c13_dh16_dm16_he4_l3_lr1e-05_wd0.01_dr0.4_nosche_s15_es41', 'USER_24_c15_dh16_dm16_he4_l3_lr1e-05_wd0.01_dr0.4_nosche_s10', 'USER_24_c15_dh16_dm16_he4_l3_lr1e-05_wd0.01_dr0.4_nosche_s10_es41', 'USER_24_c15_dh16_dm16_he4_l3_lr1e-05_wd0.01_dr0.4_nosche_s10_es41_fin', 'USER_24_c15_dh16_dm16_he4_l3_lr1e-05_wd0.01_dr0.4_nosche_s10_es41_fin_mep300', 'USER_24_c15_dh16_dm16_he4_l3_lr1e-05_wd0.01_dr0.4_nosche_s15_es41', 'USER_25_c13_dh16_dm16_he4_l3_lr1e-05_wd0.01_dr0.4_nosche_s10', 'USER_25_c13_dh16_dm16_he4_l3_lr1e-05_wd0.01_dr0.4_nosche_s10_es41', 'USER_25_c13_dh16_dm16_he4_l3_lr1e-05_wd0.01_dr0.4_nosche_s10_es41_fin', 'USER_25_c13_dh16_dm16_he4_l3_lr1e-05_wd0.01_dr0.4_nosche_s15_es41', 'USER_26_c14_dh16_dm16_he4_l3_lr1e-05_wd0.01_dr0.4_nosche_s10', 'USER_26_c14_dh16_dm16_he4_l3_lr1e-05_wd0.01_dr0.4_nosche_s10_es41', 'USER_26_c14_dh16_dm16_he4_l3_lr1e-05_wd0.01_dr0.4_nosche_s10_es41_fin', 'USER_26_c14_dh16_dm16_he4_l3_lr1e-05_wd0.01_dr0.4_nosche_s15_es41', 'USER_27_c12_dh16_dm16_he4_l3_lr1e-05_wd0.01_dr0.4_nosche_s10', 'USER_27_c12_dh16_dm16_he4_l3_lr1e-05_wd0.01_dr0.4_nosche_s10_es41', 'USER_27_c12_dh16_dm16_he4_l3_lr1e-05_wd0.01_dr0.4_nosche_s10_es41_fin', 'USER_27_c12_dh16_dm16_he4_l3_lr1e-05_wd0.01_dr0.4_nosche_s15_es41', 'USER_28_c12_dh16_dm16_he4_l3_lr1e-05_wd0.01_dr0.4_nosche_s10', 'USER_28_c12_dh16_dm16_he4_l3_lr1e-05_wd0.01_dr0.4_nosche_s10_es41', 'USER_28_c12_dh16_dm16_he4_l3_lr1e-05_wd0.01_dr0.4_nosche_s10_es41_fin', 'USER_28_c12_dh16_dm16_he4_l3_lr1e-05_wd0.01_dr0.4_nosche_s10_es41_re', 'USER_28_c12_dh16_dm16_he4_l3_lr1e-05_wd0.01_dr0.4_nosche_s15_es41', 'USER_28_c12_dh16_dm16_he4_l3_lr1e-05_wd0.01_dr0.5_nosche_s10', 'USER_29_c12_dh16_dm16_he4_l3_lr1e-05_wd0.01_dr0.4_nosche_s10', 'USER_29_c12_dh16_dm16_he4_l3_lr1e-05_wd0.01_dr0.4_nosche_s10_es41', 'USER_29_c12_dh16_dm16_he4_l3_lr1e-05_wd0.01_dr0.4_nosche_s10_es41_fin', 'USER_29_c12_dh16_dm16_he4_l3_lr1e-05_wd0.01_dr0.4_nosche_s15_es41', 'USER_2_c10_dh16_dm16_he4_l3_lr1e-05_wd0.01_dr0.4_nosche_s10', 'USER_2_c10_dh16_dm16_he4_l3_lr1e-05_wd0.01_dr0.4_nosche_s10_es41', 'USER_2_c10_dh16_dm16_he4_l3_lr1e-05_wd0.01_dr0.4_nosche_s10_es41_fin', 'USER_2_c10_dh16_dm16_he4_l3_lr1e-05_wd0.01_dr0.4_nosche_s10_es41_fin_mep300', 'USER_2_c10_dh16_dm16_he4_l3_lr1e-05_wd0.01_dr0.4_nosche_s15_es41_re', 'USER_30_c9_dh16_dm16_he4_l3_lr1e-05_wd0.01_dr0.4_nosche_s10', 'USER_30_c9_dh16_dm16_he4_l3_lr1e-05_wd0.01_dr0.4_nosche_s10_es41', 'USER_30_c9_dh16_dm16_he4_l3_lr1e-05_wd0.01_dr0.4_nosche_s10_es41_fin', 'USER_30_c9_dh16_dm16_he4_l3_lr1e-05_wd0.01_dr0.4_nosche_s15_es41', 'USER_3_c13_dh16_dm16_he4_l3_lr1e-05_wd0.01_dr0.4_nosche_s10', 'USER_3_c13_dh16_dm16_he4_l3_lr1e-05_wd0.01_dr0.4_nosche_s10_es41', 'USER_3_c13_dh16_dm16_he4_l3_lr1e-05_wd0.01_dr0.4_nosche_s10_es41_fin', 'USER_3_c13_dh16_dm16_he4_l3_lr1e-05_wd0.01_dr0.4_nosche_s10_es41_fin_mep300', 'USER_4_c11_dh16_dm16_he4_l3_lr1e-05_wd0.01_dr0.4_nosche_s10', 'USER_4_c11_dh16_dm16_he4_l3_lr1e-05_wd0.01_dr0.4_nosche_s10_es41', 'USER_4_c11_dh16_dm16_he4_l3_lr1e-05_wd0.01_dr0.4_nosche_s10_es41_fin', 'USER_4_c11_dh16_dm16_he4_l3_lr1e-05_wd0.01_dr0.4_nosche_s10_es41_fin_mep300', 'USER_5_c11_dh16_dm16_he4_l3_lr1e-05_wd0.01_dr0.4_nosche_s10', 'USER_5_c11_dh16_dm16_he4_l3_lr1e-05_wd0.01_dr0.4_nosche_s10_es41', 'USER_5_c11_dh16_dm16_he4_l3_lr1e-05_wd0.01_dr0.4_nosche_s10_es41_fin', 'USER_5_c11_dh16_dm16_he4_l3_lr1e-05_wd0.01_dr0.4_nosche_s10_es41_fin_mep300', 'USER_6_c12_dh16_dm16_he4_l3_lr1e-05_wd0.01_dr0.4_nosche_s10', 'USER_6_c12_dh16_dm16_he4_l3_lr1e-05_wd0.01_dr0.4_nosche_s10_es41', 'USER_6_c12_dh16_dm16_he4_l3_lr1e-05_wd0.01_dr0.4_nosche_s10_es41_fin', 'USER_6_c12_dh16_dm16_he4_l3_lr1e-05_wd0.01_dr0.4_nosche_s10_es41_fin_mep300', 'USER_7_c11_dh16_dm16_he4_l3_lr1e-05_wd0.01_dr0.4_nosche_s10', 'USER_7_c11_dh16_dm16_he4_l3_lr1e-05_wd0.01_dr0.4_nosche_s10_es41', 'USER_7_c11_dh16_dm16_he4_l3_lr1e-05_wd0.01_dr0.4_nosche_s10_es41_fin', 'USER_7_c11_dh16_dm16_he4_l3_lr1e-05_wd0.01_dr0.4_nosche_s10_es41_fin_mep300', 'USER_7_c11_dh16_dm16_he4_l3_lr1e-05_wd0.01_dr0.4_nosche_s15_es41', 'USER_8_c16_dh16_dm16_he4_l3_lr1e-05_wd0.01_dr0.4_nosche_s10', 'USER_8_c16_dh16_dm16_he4_l3_lr1e-05_wd0.01_dr0.4_nosche_s10_es41', 'USER_8_c16_dh16_dm16_he4_l3_lr1e-05_wd0.01_dr0.4_nosche_s10_es41_fin', 'USER_8_c16_dh16_dm16_he4_l3_lr1e-05_wd0.01_dr0.4_nosche_s10_es41_fin_mep300', 'USER_8_c16_dh16_dm16_he4_l3_lr1e-05_wd0.01_dr0.4_nosche_s15_es41', 'USER_9_c15_dh16_dm16_he4_l3_lr1e-05_wd0.01_dr0.4_nosche_s10', 'USER_9_c15_dh16_dm16_he4_l3_lr1e-05_wd0.01_dr0.4_nosche_s10_es41', 'USER_9_c15_dh16_dm16_he4_l3_lr1e-05_wd0.01_dr0.4_nosche_s10_es41_fin', 'USER_9_c15_dh16_dm16_he4_l3_lr1e-05_wd0.01_dr0.4_nosche_s10_es41_fin_mep300', 'USER_9_c15_dh16_dm16_he4_l3_lr1e-05_wd0.01_dr0.4_nosche_s15_es41']\n"
     ]
    }
   ],
   "source": [
    "model_list = sorted(os.listdir('wgt'))\n",
    "print (model_list)"
   ]
  },
  {
   "cell_type": "code",
   "execution_count": 5,
   "id": "3e0d3c62",
   "metadata": {},
   "outputs": [
    {
     "name": "stdout",
     "output_type": "stream",
     "text": [
      "USER_10_c11_dh16_dm16_he4_l3_lr1e-05_wd0.01_dr0.4_nosche_s10_es41_fin_mep300 10 [50.         85.41666667 96.875      30.20833333]\n",
      "USER_11_c11_dh16_dm16_he4_l3_lr1e-05_wd0.01_dr0.4_nosche_s10_es41_fin_mep300 11 [32.82442748 68.70229008 89.3129771  38.16793893]\n",
      "USER_12_c13_dh16_dm16_he4_l3_lr1e-05_wd0.01_dr0.4_nosche_s10_es41_fin_mep300 12 [49.62962963 77.77777778 91.11111111 37.03703704]\n",
      "USER_1_c15_dh16_dm16_he4_l3_lr1e-05_wd0.01_dr0.4_nosche_s10_es41_fin_mep300 1 [28.39506173 49.38271605 62.96296296 41.97530864]\n",
      "USER_21_c13_dh16_dm16_he4_l3_lr1e-05_wd0.01_dr0.4_nosche_s10_es41_fin_mep300 21 [34.54545455 66.36363636 75.45454545 23.63636364]\n",
      "USER_22_c12_dh16_dm16_he4_l3_lr1e-05_wd0.01_dr0.4_nosche_s10_es41_fin_mep300 22 [41.66666667 66.66666667 81.25       34.375     ]\n",
      "USER_23_c13_dh16_dm16_he4_l3_lr1e-05_wd0.01_dr0.4_nosche_s10_es41_fin_mep300 23 [45.23809524 79.36507937 89.68253968 19.04761905]\n",
      "USER_24_c15_dh16_dm16_he4_l3_lr1e-05_wd0.01_dr0.4_nosche_s10_es41_fin_mep300 24 [28.08219178 54.10958904 69.8630137  27.39726027]\n",
      "USER_25_c13_dh16_dm16_he4_l3_lr1e-05_wd0.01_dr0.4_nosche_s10_es41_fin_mep300 25 [43.15068493 69.17808219 81.50684932 39.04109589]\n",
      "USER_26_c14_dh16_dm16_he4_l3_lr1e-05_wd0.01_dr0.4_nosche_s10_es41_fin_mep300 26 [44.37086093 69.53642384 76.1589404  19.20529801]\n",
      "USER_27_c12_dh16_dm16_he4_l3_lr1e-05_wd0.01_dr0.4_nosche_s10_es41_fin_mep300 27 [31.31313131 54.54545455 71.71717172 36.36363636]\n",
      "USER_28_c12_dh16_dm16_he4_l3_lr1e-05_wd0.01_dr0.4_nosche_s10_es41_fin_mep300 28 [44.53781513 72.26890756 86.55462185 51.2605042 ]\n",
      "USER_29_c12_dh16_dm16_he4_l3_lr1e-05_wd0.01_dr0.4_nosche_s10_es41_fin_mep300 29 [52.85714286 87.14285714 95.71428571 44.28571429]\n",
      "USER_2_c10_dh16_dm16_he4_l3_lr1e-05_wd0.01_dr0.4_nosche_s10_es41_fin_mep300 2 [29.78723404 55.31914894 72.34042553 12.76595745]\n",
      "USER_30_c9_dh16_dm16_he4_l3_lr1e-05_wd0.01_dr0.4_nosche_s10_es41_fin_mep300 30 [66.29213483 84.26966292 91.01123596 43.82022472]\n",
      "USER_3_c13_dh16_dm16_he4_l3_lr1e-05_wd0.01_dr0.4_nosche_s10_es41_fin_mep300 3 [28.82882883 57.65765766 78.37837838 48.64864865]\n",
      "USER_4_c11_dh16_dm16_he4_l3_lr1e-05_wd0.01_dr0.4_nosche_s10_es41_fin_mep300 4 [41.04477612 75.37313433 90.29850746 33.58208955]\n",
      "USER_5_c11_dh16_dm16_he4_l3_lr1e-05_wd0.01_dr0.4_nosche_s10_es41_fin_mep300 5 [49.5412844  79.81651376 90.82568807 32.11009174]\n",
      "USER_6_c12_dh16_dm16_he4_l3_lr1e-05_wd0.01_dr0.4_nosche_s10_es41_fin_mep300 6 [41.53846154 74.61538462 86.15384615 27.69230769]\n",
      "USER_7_c11_dh16_dm16_he4_l3_lr1e-05_wd0.01_dr0.4_nosche_s10_es41_fin_mep300 7 [30.08130081 58.53658537 84.55284553 55.28455285]\n",
      "USER_8_c16_dh16_dm16_he4_l3_lr1e-05_wd0.01_dr0.4_nosche_s10_es41_fin_mep300 8 [44.44444444 66.66666667 73.61111111 13.88888889]\n",
      "USER_9_c15_dh16_dm16_he4_l3_lr1e-05_wd0.01_dr0.4_nosche_s10_es41_fin_mep300 9 [35.5704698  65.77181208 77.18120805 37.58389262]\n"
     ]
    }
   ],
   "source": [
    "## transformer\n",
    "setting = 'dh16_dm16_he4_l3_lr1e-05_wd0.01_dr0.4_nosche_s10_es41_fin_mep300'\n",
    "\n",
    "accu_dict = {}\n",
    "num_label_dict = {}\n",
    "for model in model_list:\n",
    "    if setting in model:\n",
    "        userid = model.split('_')[1]\n",
    "        nclass = model.split('_')[2][1:]\n",
    "        best_accu = np.load('./wgt/'+model+'/best_accu.npy')\n",
    "        accu_dict[userid] = best_accu\n",
    "        print (model, userid, best_accu)\n",
    "        num_label_dict[userid] = nclass"
   ]
  },
  {
   "cell_type": "code",
   "execution_count": 5,
   "id": "39361d0f",
   "metadata": {},
   "outputs": [
    {
     "name": "stdout",
     "output_type": "stream",
     "text": [
      "LSTM_USER_10_c11_lr1e-05_wd0.01_dr0.4 10 [37.5        75.         93.26923077 21.15384615]\n",
      "LSTM_USER_11_c11_lr1e-05_wd0.01_dr0.4 11 [22.30215827 58.27338129 84.17266187 69.78417266]\n",
      "LSTM_USER_12_c13_lr1e-05_wd0.01_dr0.4 12 [33.09859155 69.71830986 89.43661972 28.16901408]\n",
      "LSTM_USER_1_c15_lr1e-05_wd0.01_dr0.4 1 [31.81818182 53.40909091 60.22727273  1.13636364]\n",
      "LSTM_USER_21_c13_lr1e-05_wd0.01_dr0.4 21 [18.8034188  46.15384615 71.79487179 30.76923077]\n",
      "LSTM_USER_22_c12_lr1e-05_wd0.01_dr0.4 22 [25.24271845 51.45631068 74.75728155 40.77669903]\n",
      "LSTM_USER_23_c13_lr1e-05_wd0.01_dr0.4 23 [24.81203008 52.63157895 75.18796992  3.7593985 ]\n",
      "LSTM_USER_24_c15_lr1e-05_wd0.01_dr0.4 24 [24.83660131 49.01960784 75.16339869 27.45098039]\n",
      "LSTM_USER_25_c13_lr1e-05_wd0.01_dr0.4 25 [27.63157895 65.13157895 79.60526316 34.86842105]\n",
      "LSTM_USER_26_c14_lr1e-05_wd0.01_dr0.4 26 [24.84076433 63.05732484 76.43312102 28.02547771]\n",
      "LSTM_USER_27_c12_lr1e-05_wd0.01_dr0.4 27 [26.41509434 49.05660377 65.09433962 43.39622642]\n",
      "LSTM_USER_28_c12_lr1e-05_wd0.01_dr0.4 28 [33.33333333 68.25396825 85.71428571 60.31746032]\n",
      "LSTM_USER_29_c12_lr1e-05_wd0.01_dr0.4 29 [32.46753247 71.42857143 93.50649351 37.66233766]\n",
      "LSTM_USER_2_c10_lr1e-05_wd0.01_dr0.4 2 [14.81481481 37.03703704 61.11111111  0.        ]\n",
      "LSTM_USER_30_c9_lr1e-05_wd0.01_dr0.4 30 [32.63157895 66.31578947 91.57894737 17.89473684]\n",
      "LSTM_USER_3_c13_lr1e-05_wd0.01_dr0.4 3 [16.80672269 42.85714286 63.02521008 45.37815126]\n",
      "LSTM_USER_4_c11_lr1e-05_wd0.01_dr0.4 4 [29.07801418 60.9929078  77.30496454 31.91489362]\n",
      "LSTM_USER_5_c11_lr1e-05_wd0.01_dr0.4 5 [26.72413793 62.06896552 88.79310345 41.37931034]\n",
      "LSTM_USER_6_c12_lr1e-05_wd0.01_dr0.4 6 [28.46715328 63.50364964 85.40145985 21.89781022]\n",
      "LSTM_USER_7_c11_lr1e-05_wd0.01_dr0.4 7 [20.61068702 42.7480916  73.28244275 48.85496183]\n",
      "LSTM_USER_8_c16_lr1e-05_wd0.01_dr0.4 8 [22.78481013 54.43037975 72.15189873 18.98734177]\n",
      "LSTM_USER_9_c15_lr1e-05_wd0.01_dr0.4 9 [15.2866242  40.12738854 64.33121019 39.49044586]\n"
     ]
    }
   ],
   "source": [
    "## LSTM\n",
    "mname = 'LSTM'\n",
    "setting = '_lr1e-05_wd0.01_dr0.4'\n",
    "\n",
    "accu_dict = {}\n",
    "num_label_dict = {}\n",
    "for model in model_list:\n",
    "    if mname in model:\n",
    "        if setting in model:\n",
    "            if 'bi' not in model:\n",
    "                userid = model.split('_')[2]\n",
    "                nclass = model.split('_')[3][1:]\n",
    "                best_accu = np.load('./wgt/'+model+'/best_accu.npy')\n",
    "                accu_dict[userid] = best_accu\n",
    "                print (model, userid, best_accu)\n",
    "                num_label_dict[userid] = nclass"
   ]
  },
  {
   "cell_type": "code",
   "execution_count": 6,
   "id": "2311e309",
   "metadata": {},
   "outputs": [
    {
     "name": "stdout",
     "output_type": "stream",
     "text": [
      "LSTM_USER_10_c11_lr1e-05_wd0.01_dr0.4_bi 10 [44.11764706 80.39215686 96.07843137 26.47058824]\n",
      "LSTM_USER_11_c11_lr1e-05_wd0.01_dr0.4_bi 11 [37.22627737 79.5620438  91.24087591 82.48175182]\n",
      "LSTM_USER_12_c13_lr1e-05_wd0.01_dr0.4_bi 12 [43.97163121 84.39716312 92.90780142 44.68085106]\n",
      "LSTM_USER_1_c15_lr1e-05_wd0.01_dr0.4_bi 1 [32.18390805 57.47126437 68.96551724 45.97701149]\n",
      "LSTM_USER_21_c13_lr1e-05_wd0.01_dr0.4_bi 21 [30.17241379 70.68965517 82.75862069 33.62068966]\n",
      "LSTM_USER_22_c12_lr1e-05_wd0.01_dr0.4_bi 22 [40.19607843 72.54901961 87.25490196 36.2745098 ]\n",
      "LSTM_USER_23_c13_lr1e-05_wd0.01_dr0.4_bi 23 [40.15151515 71.96969697 86.36363636 46.21212121]\n",
      "LSTM_USER_24_c15_lr1e-05_wd0.01_dr0.4_bi 24 [34.86842105 57.89473684 76.31578947 38.15789474]\n",
      "LSTM_USER_25_c13_lr1e-05_wd0.01_dr0.4_bi 25 [28.47682119 64.90066225 79.47019868 42.38410596]\n",
      "LSTM_USER_26_c14_lr1e-05_wd0.01_dr0.4_bi 26 [41.93548387 70.32258065 85.80645161 21.29032258]\n",
      "LSTM_USER_27_c12_lr1e-05_wd0.01_dr0.4_bi 27 [27.88461538 48.07692308 71.15384615 39.42307692]\n",
      "LSTM_USER_28_c12_lr1e-05_wd0.01_dr0.4_bi 28 [37.90322581 75.         87.90322581 66.12903226]\n",
      "LSTM_USER_29_c12_lr1e-05_wd0.01_dr0.4_bi 29 [48.         86.66666667 97.33333333 54.66666667]\n",
      "LSTM_USER_2_c10_lr1e-05_wd0.01_dr0.4_bi 2 [20.75471698 41.50943396 66.03773585 30.18867925]\n",
      "LSTM_USER_30_c9_lr1e-05_wd0.01_dr0.4_bi 30 [40.86021505 78.49462366 93.5483871  31.1827957 ]\n",
      "LSTM_USER_3_c13_lr1e-05_wd0.01_dr0.4_bi 3 [34.18803419 63.24786325 82.90598291 54.7008547 ]\n",
      "LSTM_USER_4_c11_lr1e-05_wd0.01_dr0.4_bi 4 [33.81294964 77.69784173 92.08633094 38.1294964 ]\n",
      "LSTM_USER_5_c11_lr1e-05_wd0.01_dr0.4_bi 5 [46.49122807 79.8245614  92.98245614 58.77192982]\n",
      "LSTM_USER_6_c12_lr1e-05_wd0.01_dr0.4_bi 6 [47.05882353 73.52941176 87.5        35.29411765]\n",
      "LSTM_USER_7_c11_lr1e-05_wd0.01_dr0.4_bi 7 [19.37984496 40.31007752 75.19379845 48.0620155 ]\n",
      "LSTM_USER_8_c16_lr1e-05_wd0.01_dr0.4_bi 8 [29.87012987 58.44155844 68.83116883 29.87012987]\n",
      "LSTM_USER_9_c15_lr1e-05_wd0.01_dr0.4_bi 9 [21.93548387 58.06451613 76.77419355 41.93548387]\n"
     ]
    }
   ],
   "source": [
    "## biLSTM\n",
    "mname = 'LSTM'\n",
    "setting = '_lr1e-05_wd0.01_dr0.4_bi'\n",
    "\n",
    "accu_dict = {}\n",
    "num_label_dict = {}\n",
    "for model in model_list:\n",
    "    if mname in model:\n",
    "        if setting in model:\n",
    "            if 's15' not in model:\n",
    "                userid = model.split('_')[2]\n",
    "                nclass = model.split('_')[3][1:]\n",
    "                best_accu = np.load('./wgt/'+model+'/best_accu.npy')\n",
    "                accu_dict[userid] = best_accu\n",
    "                print (model, userid, best_accu)\n",
    "                num_label_dict[userid] = nclass"
   ]
  },
  {
   "cell_type": "code",
   "execution_count": 7,
   "id": "48e999f8",
   "metadata": {},
   "outputs": [
    {
     "name": "stdout",
     "output_type": "stream",
     "text": [
      "MLP_USER_10_c11_lr1e-05_wd0.01_dr0.4 10 [48.11320755 77.35849057 94.33962264 24.52830189]\n",
      "MLP_USER_11_c11_lr1e-05_wd0.01_dr0.4 11 [30.4964539  72.34042553 90.78014184 79.43262411]\n",
      "MLP_USER_12_c13_lr1e-05_wd0.01_dr0.4 12 [40.68965517 75.17241379 89.65517241 31.03448276]\n",
      "MLP_USER_1_c15_lr1e-05_wd0.01_dr0.4 1 [30.76923077 51.64835165 67.03296703 36.26373626]\n",
      "MLP_USER_21_c13_lr1e-05_wd0.01_dr0.4 21 [21.66666667 48.33333333 66.66666667 39.16666667]\n",
      "MLP_USER_22_c12_lr1e-05_wd0.01_dr0.4 22 [33.96226415 61.32075472 78.30188679 33.96226415]\n",
      "MLP_USER_23_c13_lr1e-05_wd0.01_dr0.4 23 [30.14705882 39.70588235 49.26470588  0.73529412]\n",
      "MLP_USER_24_c15_lr1e-05_wd0.01_dr0.4 24 [25.         51.92307692 73.07692308 24.35897436]\n",
      "MLP_USER_25_c13_lr1e-05_wd0.01_dr0.4 25 [40.64516129 68.38709677 80.         35.48387097]\n",
      "MLP_USER_26_c14_lr1e-05_wd0.01_dr0.4 26 [38.75  70.625 80.625 21.25 ]\n",
      "MLP_USER_27_c12_lr1e-05_wd0.01_dr0.4 27 [28.7037037  49.07407407 63.88888889  8.33333333]\n",
      "MLP_USER_28_c12_lr1e-05_wd0.01_dr0.4 28 [35.9375  66.40625 82.8125   0.     ]\n",
      "MLP_USER_29_c12_lr1e-05_wd0.01_dr0.4 29 [44.30379747 84.81012658 96.20253165 46.83544304]\n",
      "MLP_USER_2_c10_lr1e-05_wd0.01_dr0.4 2 [19.29824561 40.35087719 70.1754386  31.57894737]\n",
      "MLP_USER_30_c9_lr1e-05_wd0.01_dr0.4 30 [50.         74.48979592 88.7755102  39.79591837]\n",
      "MLP_USER_3_c13_lr1e-05_wd0.01_dr0.4 3 [19.83471074 47.9338843  69.4214876  50.41322314]\n",
      "MLP_USER_4_c11_lr1e-05_wd0.01_dr0.4 4 [37.5        68.05555556 83.33333333 40.97222222]\n",
      "MLP_USER_5_c11_lr1e-05_wd0.01_dr0.4 5 [36.13445378 77.31092437 84.03361345 48.7394958 ]\n",
      "MLP_USER_6_c12_lr1e-05_wd0.01_dr0.4 6 [38.57142857 70.71428571 89.28571429 39.28571429]\n",
      "MLP_USER_7_c11_lr1e-05_wd0.01_dr0.4 7 [25.56390977 57.14285714 77.44360902 35.33834586]\n",
      "MLP_USER_8_c16_lr1e-05_wd0.01_dr0.4 8 [30.48780488 60.97560976 69.51219512 23.17073171]\n",
      "MLP_USER_9_c15_lr1e-05_wd0.01_dr0.4 9 [25.1572327  50.31446541 71.69811321 42.7672956 ]\n"
     ]
    }
   ],
   "source": [
    "## MLP\n",
    "mname = 'MLP'\n",
    "setting = '_lr1e-05_wd0.01_dr0.4'\n",
    "\n",
    "accu_dict = {}\n",
    "num_label_dict = {}\n",
    "for model in model_list:\n",
    "    if mname in model:\n",
    "        userid = model.split('_')[2]\n",
    "        nclass = model.split('_')[3][1:]\n",
    "        best_accu = np.load('./wgt/'+model+'/best_accu.npy')\n",
    "        accu_dict[userid] = best_accu\n",
    "        print (model, userid, best_accu)\n",
    "        num_label_dict[userid] = nclass"
   ]
  },
  {
   "cell_type": "code",
   "execution_count": 8,
   "id": "1f8a9f95",
   "metadata": {},
   "outputs": [
    {
     "name": "stdout",
     "output_type": "stream",
     "text": [
      "1 [31.03448276 59.77011494 70.11494253]\n",
      "2 [32.0754717  50.94339623 66.03773585]\n",
      "3 [33.33333333 65.81196581 82.05128205]\n",
      "4 [43.88489209 76.25899281 92.8057554 ]\n",
      "5 [53.50877193 79.8245614  88.59649123]\n",
      "6 [41.17647059 73.52941176 91.17647059]\n",
      "7 [29.45736434 62.01550388 78.29457364]\n",
      "8 [40.25974026 61.03896104 68.83116883]\n",
      "9 [34.19354839 63.87096774 80.        ]\n",
      "10 [56.8627451  83.33333333 96.07843137]\n",
      "11 [37.95620438 78.83211679 91.24087591]\n",
      "12 [51.77304965 83.68794326 95.74468085]\n",
      "21 [35.34482759 67.24137931 76.72413793]\n",
      "22 [46.07843137 72.54901961 80.39215686]\n",
      "23 [43.18181818 79.54545455 86.36363636]\n",
      "24 [30.26315789 59.86842105 73.02631579]\n",
      "25 [43.70860927 68.21192053 80.79470199]\n",
      "26 [43.87096774 70.96774194 82.58064516]\n",
      "27 [30.76923077 53.84615385 74.03846154]\n",
      "28 [45.96774194 73.38709677 89.51612903]\n",
      "29 [52. 92. 96.]\n",
      "30 [61.29032258 84.94623656 93.5483871 ]\n"
     ]
    }
   ],
   "source": [
    "## ensemble\n",
    "\n",
    "accu_dict = {}\n",
    "id_list = [1, 2, 3, 4, 5, 6, 7, 8, 9, 10, 11, 12, 21, 22, 23, 24, 25, 26, 27, 28, 29, 30]\n",
    "for id in id_list:\n",
    "    best_accu = np.load('./ensemble/USER_%s_best_accu.npy'%(id))\n",
    "    accu_dict[str(id)] = best_accu\n",
    "    print (id, best_accu)"
   ]
  },
  {
   "cell_type": "code",
   "execution_count": 9,
   "id": "94930564",
   "metadata": {},
   "outputs": [
    {
     "name": "stdout",
     "output_type": "stream",
     "text": [
      "31.03 & 32.08 & 33.33 & 43.88 & 53.51 & 41.18 & 29.46 & 40.26 & 34.19 & 56.86 & 37.96 & 51.77 & 35.34 & 46.08 & 43.18 & 30.26 & 43.71 & 43.87 & 30.77 & 45.97 & 52.00 & 61.29 & \n"
     ]
    }
   ],
   "source": [
    "resstr = ''\n",
    "for uid in user_id:\n",
    "    resstr += '%.2f & '%(accu_dict[str(uid)][0])\n",
    "print (resstr)"
   ]
  },
  {
   "cell_type": "code",
   "execution_count": 5,
   "id": "e5d30ed6",
   "metadata": {},
   "outputs": [
    {
     "ename": "NameError",
     "evalue": "name 'num_label_dict' is not defined",
     "output_type": "error",
     "traceback": [
      "\u001b[0;31m---------------------------------------------------------------------------\u001b[0m",
      "\u001b[0;31mNameError\u001b[0m                                 Traceback (most recent call last)",
      "\u001b[0;32m<ipython-input-5-975aa92dc891>\u001b[0m in \u001b[0;36m<module>\u001b[0;34m\u001b[0m\n\u001b[1;32m      1\u001b[0m \u001b[0;32mfor\u001b[0m \u001b[0mi\u001b[0m\u001b[0;34m,\u001b[0m \u001b[0mkey\u001b[0m \u001b[0;32min\u001b[0m \u001b[0menumerate\u001b[0m\u001b[0;34m(\u001b[0m\u001b[0maccu_dict\u001b[0m\u001b[0;34m)\u001b[0m\u001b[0;34m:\u001b[0m\u001b[0;34m\u001b[0m\u001b[0;34m\u001b[0m\u001b[0m\n\u001b[0;32m----> 2\u001b[0;31m     \u001b[0mprint\u001b[0m \u001b[0;34m(\u001b[0m\u001b[0mkey\u001b[0m\u001b[0;34m,\u001b[0m \u001b[0maccu_dict\u001b[0m\u001b[0;34m[\u001b[0m\u001b[0mkey\u001b[0m\u001b[0;34m]\u001b[0m\u001b[0;34m,\u001b[0m \u001b[0mnum_data_dict\u001b[0m\u001b[0;34m[\u001b[0m\u001b[0mint\u001b[0m\u001b[0;34m(\u001b[0m\u001b[0mkey\u001b[0m\u001b[0;34m)\u001b[0m\u001b[0;34m]\u001b[0m\u001b[0;34m,\u001b[0m \u001b[0mnum_label_dict\u001b[0m\u001b[0;34m[\u001b[0m\u001b[0mkey\u001b[0m\u001b[0;34m]\u001b[0m\u001b[0;34m)\u001b[0m\u001b[0;34m\u001b[0m\u001b[0;34m\u001b[0m\u001b[0m\n\u001b[0m",
      "\u001b[0;31mNameError\u001b[0m: name 'num_label_dict' is not defined"
     ]
    }
   ],
   "source": [
    "for i, key in enumerate(accu_dict):\n",
    "    print (key, accu_dict[key], num_data_dict[int(key)], num_label_dict[key])"
   ]
  },
  {
   "cell_type": "code",
   "execution_count": 13,
   "id": "e06a1323",
   "metadata": {},
   "outputs": [
    {
     "name": "stdout",
     "output_type": "stream",
     "text": [
      "9.09 & 9.09 & 7.69 & 6.67 & 7.69 & 8.33 & 7.69 & 6.67 & 7.69 & 7.14 & 8.33 & 8.33 & 8.33 & 10.00 & 11.11 & 7.69 & 9.09 & 9.09 & 8.33 & 9.09 & 6.25 & 6.67 & \n",
      "8.185759947123584 24.55727984137075 40.92879973561792 0.14285714285714285\n"
     ]
    }
   ],
   "source": [
    "## random\n",
    "resstr = ''\n",
    "rand_sum = 0\n",
    "for num_label in num_label_dict:\n",
    "    rand_sum += (1/int(num_label_dict[num_label])*100)\n",
    "    resstr += '%.2f & '%(1/int(num_label_dict[num_label])*100)\n",
    "\n",
    "print (resstr)\n",
    "rand_top1 = rand_sum/len(num_label_dict)\n",
    "rand_top3 = rand_top1*3\n",
    "rand_top5 = rand_top1*5\n",
    "rand_emo_top1 = 1/7\n",
    "\n",
    "print (rand_top1, rand_top3, rand_top5, rand_emo_top1)"
   ]
  },
  {
   "cell_type": "code",
   "execution_count": 6,
   "id": "da950b9e",
   "metadata": {},
   "outputs": [],
   "source": [
    "accu_list = np.array(list(accu_dict.values()))"
   ]
  },
  {
   "cell_type": "code",
   "execution_count": 7,
   "id": "1828df1f",
   "metadata": {},
   "outputs": [
    {
     "data": {
      "text/plain": [
       "array([[31.03448276, 59.77011494, 70.11494253],\n",
       "       [32.0754717 , 50.94339623, 66.03773585],\n",
       "       [33.33333333, 65.81196581, 82.05128205],\n",
       "       [43.88489209, 76.25899281, 92.8057554 ],\n",
       "       [53.50877193, 79.8245614 , 88.59649123],\n",
       "       [41.17647059, 73.52941176, 91.17647059],\n",
       "       [29.45736434, 62.01550388, 78.29457364],\n",
       "       [40.25974026, 61.03896104, 68.83116883],\n",
       "       [34.19354839, 63.87096774, 80.        ],\n",
       "       [56.8627451 , 83.33333333, 96.07843137],\n",
       "       [37.95620438, 78.83211679, 91.24087591],\n",
       "       [51.77304965, 83.68794326, 95.74468085],\n",
       "       [35.34482759, 67.24137931, 76.72413793],\n",
       "       [46.07843137, 72.54901961, 80.39215686],\n",
       "       [43.18181818, 79.54545455, 86.36363636],\n",
       "       [30.26315789, 59.86842105, 73.02631579],\n",
       "       [43.70860927, 68.21192053, 80.79470199],\n",
       "       [43.87096774, 70.96774194, 82.58064516],\n",
       "       [30.76923077, 53.84615385, 74.03846154],\n",
       "       [45.96774194, 73.38709677, 89.51612903],\n",
       "       [52.        , 92.        , 96.        ],\n",
       "       [61.29032258, 84.94623656, 93.5483871 ]])"
      ]
     },
     "execution_count": 7,
     "metadata": {},
     "output_type": "execute_result"
    }
   ],
   "source": [
    "accu_list"
   ]
  },
  {
   "cell_type": "code",
   "execution_count": 8,
   "id": "c38b488d",
   "metadata": {},
   "outputs": [
    {
     "name": "stdout",
     "output_type": "stream",
     "text": [
      "[41.7268719  70.97639514 83.36168091] [ 9.05395226 10.50779085  9.15628724]\n"
     ]
    }
   ],
   "source": [
    "assert len(accu_list) == 22\n",
    "print (np.mean(accu_list, axis=0), np.std(accu_list, axis=0))\n",
    "\n",
    "# act: top-1, top-3, top-5 accuracy, emo: top-1 accuracy\n",
    "\n",
    "# transformer (max epoch: 300): \n",
    "# [40.62454987 69.02194153 82.38714842 33.97171654]\n",
    "# [ 9.57108627 10.62929207  8.96274048 11.29893385]\n",
    "\n",
    "# transformer (max epoch: 200): \n",
    "# [39.18143241 68.80929301 82.09137429 33.65331358]\n",
    "# [ 9.49634242 11.3510773   9.31828819  8.08337773]\n",
    "\n",
    "## bugged version.\n",
    "# mean: [26.62238106 55.61127428 76.45854408 28.56130491]\n",
    "# std: [5.11078506 8.2678025  9.37273395 8.8938811 ]\n",
    "\n",
    "# lstm\n",
    "# mean: [25.92302486 56.48506932 77.33377992 31.50305819]\n",
    "# std: [ 6.06328515 10.63867412 10.34317686 17.17978742]\n",
    "\n",
    "# mlp\n",
    "# mean: [33.26056753 62.0178878  78.01481917 33.33849482] \n",
    "# std: [ 8.47313367 12.72439321 11.25052287 16.95875482]\n",
    "\n",
    "# lstm (bidirectional)\n",
    "# mean: [35.51997566 67.77329351 83.60966744 42.99564205]\n",
    "# std: [ 8.32280296 12.92765809  9.27393565 13.71449994]\n",
    "\n",
    "# ensemble (mlp, bilstm, transformer)\n",
    "# [41.7268719  70.97639514 83.36168091]\n",
    "# [ 9.05395226 10.50779085  9.15628724]\n",
    "\n",
    "# ensemble (lstm, bilstm, mlp)\n",
    "# mean: [34.83324271 67.46487105 81.59658155]\n",
    "# std: [ 8.55675731 11.31451984  9.08870279]"
   ]
  },
  {
   "cell_type": "code",
   "execution_count": 10,
   "id": "08b8c883",
   "metadata": {},
   "outputs": [
    {
     "name": "stdout",
     "output_type": "stream",
     "text": [
      "[0.0223908  0.0248678  0.01304572 0.01520205] [0.03606879 0.03118572 0.00773412 0.00858365]\n"
     ]
    }
   ],
   "source": [
    "user_id = [1, 2, 3, 4, 5, 6, 7, 8, 9, 10, 11, 12, 21, 22, 23, 24, 25, 26, 27, 28, 29, 30]\n",
    "import numpy as np\n",
    "\n",
    "emo_losses_list = []\n",
    "for uid in user_id:\n",
    "    fname = 'ensemble/USER_%s_emo_losses.npy'%(uid)\n",
    "    emo_losses = np.load(fname)\n",
    "    emo_losses_list.append(emo_losses)\n",
    "    \n",
    "assert len(emo_losses_list) == 22\n",
    "print (np.mean(emo_losses_list, axis=0), np.std(emo_losses_list, axis=0)) # mlp, lstm, bilstm"
   ]
  },
  {
   "cell_type": "code",
   "execution_count": null,
   "id": "54835f77",
   "metadata": {},
   "outputs": [],
   "source": []
  }
 ],
 "metadata": {
  "kernelspec": {
   "display_name": "Python 3",
   "language": "python",
   "name": "python3"
  },
  "language_info": {
   "codemirror_mode": {
    "name": "ipython",
    "version": 3
   },
   "file_extension": ".py",
   "mimetype": "text/x-python",
   "name": "python",
   "nbconvert_exporter": "python",
   "pygments_lexer": "ipython3",
   "version": "3.6.9"
  }
 },
 "nbformat": 4,
 "nbformat_minor": 5
}

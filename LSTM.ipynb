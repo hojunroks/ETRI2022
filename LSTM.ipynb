{
 "cells": [
  {
   "cell_type": "code",
   "execution_count": 1,
   "metadata": {},
   "outputs": [],
   "source": [
    "import numpy as np\n",
    "import matplotlib.pyplot as plt\n",
    "import pandas as pd\n",
    "import torch\n",
    "import torch.nn as nn\n",
    "import os\n",
    "import datetime\n",
    "import random\n",
    "\n",
    "from datetime import datetime as dt\n",
    "from torch.autograd import Variable\n",
    "from sklearn.preprocessing import MinMaxScaler\n",
    "\n",
    "def fix_seed(seed):\n",
    "    np.random.seed(seed)\n",
    "    torch.manual_seed(seed)\n",
    "    random.seed(seed)\n",
    "    torch.cuda.manual_seed(seed)\n",
    "    torch.cuda.manual_seed_all(seed)\n",
    "    torch.backends.cudnn.deterministic = True\n",
    "    torch.backends.cudnn.benchmark = False\n",
    "    os.environ['PYTHONHASHSEED'] = str(seed)\n",
    "    \n",
    "fix_seed(256)"
   ]
  },
  {
   "cell_type": "markdown",
   "metadata": {},
   "source": [
    "Data Load"
   ]
  },
  {
   "cell_type": "code",
   "execution_count": 2,
   "metadata": {},
   "outputs": [],
   "source": [
    "data_path = \"/root/storage/etri_lifelog/user01-06/user06\"\n",
    "dir_list = os.listdir(data_path)\n",
    "\n",
    "user_all_data = []\n",
    "\n",
    "for item in dir_list:\n",
    "    csv_file = data_path + \"/\" + item + \"/\" + item + \"_label.csv\"\n",
    "    rdr = pd.read_csv(csv_file)\n",
    "    user_all_data.append(rdr)\n",
    "\n",
    "#df_all : 전체 data\n",
    "df_all = pd.concat(user_all_data, axis=0)\n",
    "df_all['ts']=pd.to_datetime(df_all['ts'], unit='s')\n",
    "df_all['is_weekend']=df_all.apply(lambda x: x['ts'].weekday()>=5, axis=1)\n",
    "df_all['ampm']=df_all.apply(lambda x: [\"AM\",\"PM\"][x['ts'].hour//12], axis=1)\n",
    "\n",
    "df_no_dup = df_all.drop_duplicates()\n",
    "\n",
    "#df_sort : 연속된 동일한 actionOption끼리 묶음\n",
    "diff_indices = [0]\n",
    "diff_index = 0\n",
    "df_sort = pd.DataFrame()\n",
    "for i in range(len(df_no_dup)):\n",
    "    if(df_no_dup['actionOption'].values[i]!=df_no_dup['actionOption'].values[diff_index]):\n",
    "        diff_index=i\n",
    "        diff_indices.append(diff_index)\n",
    "        #df_sort = df_no_dup.iloc[i:i+1]\n",
    "        df_sort = df_sort.append(pd.Series(df_no_dup.iloc[i], index=df_no_dup.columns), ignore_index=True)\n",
    "\n",
    "\n",
    "actionOption_dict = {'111': 'Sleep', '112': 'Sleepless', '121': 'Meal', '122': 'Snack', '131': 'Medical services, treatments, sick rest', '132': 'Personal hygiene (bath)', '133': 'Appearance management (makeup, change of clothes)', '134': 'Beauty-related services', '211': 'Main job', '212': 'Side job', '213': 'Rest during work', '22': 'Job search', '311': 'School class / seminar (listening)', '312': 'Break between classes', '313': 'School homework, self-study (individual)', '314': 'Team project (in groups)', '321': 'Private tutoring (offline)', '322': 'Online courses', '41': 'Preparing food and washing dishes', '42': 'Laundry and ironing', '43': 'Housing management and cleaning', '44': 'Vehicle management', '45': 'Pet and plant caring', '46': 'Purchasing goods and services (grocery/take-out)', '51': 'Caring for children under 10 who live together', '52': 'Caring for elementary, middle, and high school students over 10 who live together', '53': 'Caring for a spouse', '54': 'Caring for parents and grandparents who live together', '55': 'Caring for other family members who live together', '56': 'Caring for parents and grandparents who do not live together', '57': 'Caring for other family members who do not live together', '81': 'Personal care-related travel', '82': 'Commuting and work-related travel', '83': 'Education-related travel', '84': 'Travel related to housing management', '85': 'Travel related to caring for family and household members', '86': 'Travel related to participation and volunteering', '87': 'Socializing and leisure-related travel', '61': 'Religious activities', '62': 'Political activity', '63': 'Ceremonial activities', '64': 'Volunteer', '711': 'Offline communication', '712': 'Video or voice call', '713': 'Text or email (Online)', '721': 'Reading books, newspapers, and magazines', '722': 'Watching TV or video', '723': 'Listening to audio', '724': 'Internet search or blogging', '725': 'Gaming (mobile, computer, video)', '741': 'Watching a sporting event', '742': 'Watching movie', '743': 'Concerts and plays', '744': 'Amusement Park, zoo', '745': 'Festival, carnival', '746': 'Driving, sightseeing, excursion', '751': 'Walking', '752': 'Running, jogging', '753': 'Climbing, hiking', '754': 'Biking', '755': 'Ball games (soccer, basketball, baseball, tennis, etc)', '756': 'Camping, fishing', '761': 'Group games (board games, card games, puzzles, etc.)', '762': 'Personal hobbies (woodworking, gardening, etc.)', '763': 'Group performances (orchestra, choir, troupe, etc.)', '764': 'Liberal arts and learning (languages, musical instruments, etc.)', '791': 'Nightlife', '792': 'Smoking', '793': 'Do nothing and rest', '91': 'Online shopping', '92': 'Offline shopping'}"
   ]
  },
  {
   "cell_type": "markdown",
   "metadata": {},
   "source": [
    "One Hot Encoding"
   ]
  },
  {
   "cell_type": "code",
   "execution_count": 3,
   "metadata": {},
   "outputs": [],
   "source": [
    "import torch\n",
    "import torch.nn.functional as F\n",
    "\n",
    "def dfToTensor(df, list_attributes):\n",
    "    # 한 사람의 전체 label dataframe과 index tensor로 만들고 싶은 attribute들의 리스트를 입력해주면 각각의 index tensor들이 담긴 list를 반환\n",
    "    attribute_tensors = []\n",
    "    for attribute in list_attributes:\n",
    "        type_attributes = list(df_all[attribute].drop_duplicates())\n",
    "        tensor = torch.Tensor([x for x in df.apply(lambda x: type_attributes.index(x[attribute]), axis=1)]).to(torch.int64)\n",
    "        attribute_tensors.append(tensor)\n",
    "    return attribute_tensors\n",
    "\n",
    "def indexToOneHot(attribute_tensors):\n",
    "    # index tensor들이 담긴 list를 입력해주면 one hot으로 변환한 tensor들을 담은 list를 반환\n",
    "    return([F.one_hot(x) for x in attribute_tensors])\n",
    "\n",
    "# 하나의 Tensor가 아니라 list로 주는 이유는 좀더 가공하기 편하기 위함, 해당 함수들에 사용되는 attribute는 categorical 데이터만 사용.\n",
    "#print(indexToOneHot(dfToTensor(df_all, ['action', 'place'])))"
   ]
  },
  {
   "cell_type": "markdown",
   "metadata": {},
   "source": [
    "Data"
   ]
  },
  {
   "cell_type": "code",
   "execution_count": 4,
   "metadata": {},
   "outputs": [],
   "source": [
    "onehot_x = indexToOneHot(dfToTensor(df_sort,['actionOption']))[0]\n",
    "\n",
    "train_size = int(len(onehot_x) * 0.67)\n",
    "test_size = len(onehot_x) - train_size\n",
    "\n",
    "dataX = Variable(onehot_x)\n",
    "dataY = Variable(onehot_x[1:])\n",
    "dataY_l = torch.argmax(dataY,dim =-1)\n",
    "\n",
    "trainX = Variable(torch.Tensor(np.array(onehot_x[0:train_size-1])))\n",
    "trainY = Variable(torch.Tensor(np.array(onehot_x[1:train_size])))\n",
    "trainY_l = torch.argmax(trainY,dim =-1)\n",
    "\n",
    "testX = Variable(torch.Tensor(np.array(onehot_x[train_size:len(onehot_x)])))\n",
    "testY = Variable(torch.Tensor(np.array(onehot_x[train_size:len(onehot_x)])))\n",
    "testY_l = torch.argmax(testY,dim =-1)\n",
    "\n",
    "dataX = torch.unsqueeze(dataX,1)\n",
    "trainX = torch.unsqueeze(trainX,1)\n",
    "testX = torch.unsqueeze(testX,1)"
   ]
  },
  {
   "cell_type": "markdown",
   "metadata": {},
   "source": [
    "Model"
   ]
  },
  {
   "cell_type": "code",
   "execution_count": 5,
   "metadata": {},
   "outputs": [],
   "source": [
    "class LSTM(nn.Module):\n",
    "    def __init__(self, num_classes, input_size, hidden_size, num_layers):\n",
    "        super(LSTM, self).__init__()\n",
    "        \n",
    "        self.num_classes = num_classes\n",
    "        self.num_layers = num_layers\n",
    "        self.input_size = input_size\n",
    "        self.hidden_size = hidden_size\n",
    "        #self.seq_length = seq_length\n",
    "        \n",
    "        self.lstm = nn.LSTM(input_size=input_size, hidden_size=hidden_size,\n",
    "                            num_layers=num_layers, batch_first=True, dropout=0.2)\n",
    "        \n",
    "        self.fc = nn.Linear(hidden_size, num_classes)\n",
    "\n",
    "\n",
    "    def forward(self, x):\n",
    "        h_0 = Variable(torch.zeros(\n",
    "            self.num_layers, x.size(0), self.hidden_size))\n",
    "        c_0 = Variable(torch.zeros(\n",
    "            self.num_layers, x.size(0), self.hidden_size))\n",
    "        \n",
    "        # Propagate input through LSTM\n",
    "        ula, (h_out, _) = self.lstm(x, (h_0, c_0))\n",
    "#         h_out = h_out.view(-1, self.hidden_size)\n",
    "        ula = ula.view(-1, self.hidden_size)\n",
    "        out = self.fc(ula)\n",
    "        \n",
    "        return out"
   ]
  },
  {
   "cell_type": "code",
   "execution_count": 6,
   "metadata": {},
   "outputs": [],
   "source": [
    "from sklearn.metrics import f1_score, accuracy_score, jaccard_score\n",
    "def top_k(logits, y, k : int = 1):\n",
    "    \"\"\"\n",
    "    logits : (bs, n_labels)\n",
    "    y : (bs,)\n",
    "    \"\"\"\n",
    "    labels_dim = 1\n",
    "    assert 1 <= k <= logits.size(labels_dim)\n",
    "    k_labels = torch.topk(input = logits, k = k, dim=labels_dim, largest=True, sorted=True)[1]\n",
    "\n",
    "    # True (#0) if `expected label` in k_labels, False (0) if not\n",
    "    a = ~torch.prod(input = torch.abs(y.unsqueeze(labels_dim) - k_labels), dim=labels_dim).to(torch.bool)\n",
    "    \n",
    "    # These two approaches are equivalent\n",
    "    if False :\n",
    "        y_pred = torch.empty_like(y)\n",
    "        for i in range(y.size(0)):\n",
    "            if a[i] :\n",
    "                y_pred[i] = y[i]\n",
    "            else :\n",
    "                y_pred[i] = k_labels[i][0]\n",
    "        #correct = a.to(torch.int8).numpy()\n",
    "    else :\n",
    "        a = a.to(torch.int8)\n",
    "        y_pred = a * y + (1-a) * k_labels[:,0]\n",
    "        #correct = a.numpy()\n",
    "\n",
    "    acc = accuracy_score(y_pred, y)*100\n",
    "    return acc\n",
    "\n",
    "def evaluate(model, test_data, test_label):\n",
    "    model.eval()\n",
    "    test_predict = model(test_data)\n",
    "\n",
    "    k_list = [1, 3, 5, 28]\n",
    "    accu_list = []\n",
    "    \n",
    "    for k in k_list:\n",
    "        accu_list.append(top_k(test_predict, test_label, k))\n",
    "    return accu_list"
   ]
  },
  {
   "cell_type": "markdown",
   "metadata": {},
   "source": [
    "Train"
   ]
  },
  {
   "cell_type": "code",
   "execution_count": 7,
   "metadata": {
    "scrolled": false
   },
   "outputs": [
    {
     "name": "stdout",
     "output_type": "stream",
     "text": [
      "Epoch: 0, loss: 3.41063\n",
      "Epoch: 50, loss: 3.40312\n",
      "Epoch: 100, loss: 3.39557\n",
      "Epoch: 150, loss: 3.38786\n",
      "Epoch: 200, loss: 3.37989\n",
      "Epoch: 250, loss: 3.37162\n",
      "Epoch: 300, loss: 3.36294\n",
      "Epoch: 350, loss: 3.35380\n",
      "Epoch: 400, loss: 3.34412\n",
      "Epoch: 450, loss: 3.33382\n",
      "Epoch: 500, loss: 3.32279\n",
      "Epoch: 550, loss: 3.31097\n",
      "Epoch: 600, loss: 3.29828\n",
      "Epoch: 650, loss: 3.28463\n",
      "Epoch: 700, loss: 3.26998\n",
      "Epoch: 750, loss: 3.25426\n",
      "Epoch: 800, loss: 3.23744\n",
      "Epoch: 850, loss: 3.21952\n",
      "Epoch: 900, loss: 3.20051\n",
      "Epoch: 950, loss: 3.18045\n",
      "Epoch: 1000, loss: 3.15942\n",
      "Epoch: 1050, loss: 3.13752\n",
      "Epoch: 1100, loss: 3.11489\n",
      "Epoch: 1150, loss: 3.09171\n",
      "Epoch: 1200, loss: 3.06820\n",
      "Epoch: 1250, loss: 3.04457\n",
      "Epoch: 1300, loss: 3.02104\n",
      "Epoch: 1350, loss: 2.99783\n",
      "Epoch: 1400, loss: 2.97512\n",
      "Epoch: 1450, loss: 2.95309\n",
      "Epoch: 1500, loss: 2.93186\n",
      "Epoch: 1550, loss: 2.91154\n",
      "Epoch: 1600, loss: 2.89221\n",
      "Epoch: 1650, loss: 2.87392\n",
      "Epoch: 1700, loss: 2.85672\n",
      "Epoch: 1750, loss: 2.84062\n",
      "Epoch: 1800, loss: 2.82561\n",
      "Epoch: 1850, loss: 2.81168\n",
      "Epoch: 1900, loss: 2.79879\n",
      "Epoch: 1950, loss: 2.78690\n",
      "Epoch: 2000, loss: 2.77595\n",
      "Epoch: 2050, loss: 2.76589\n",
      "Epoch: 2100, loss: 2.75666\n",
      "Epoch: 2150, loss: 2.74821\n",
      "Epoch: 2200, loss: 2.74049\n",
      "Epoch: 2250, loss: 2.73342\n",
      "Epoch: 2300, loss: 2.72698\n",
      "Epoch: 2350, loss: 2.72109\n",
      "Epoch: 2400, loss: 2.71571\n",
      "Epoch: 2450, loss: 2.71080\n",
      "Epoch: 2500, loss: 2.70631\n",
      "Epoch: 2550, loss: 2.70221\n",
      "Epoch: 2600, loss: 2.69844\n",
      "Epoch: 2650, loss: 2.69498\n",
      "Epoch: 2700, loss: 2.69180\n",
      "Epoch: 2750, loss: 2.68887\n",
      "Epoch: 2800, loss: 2.68617\n",
      "Epoch: 2850, loss: 2.68366\n",
      "Epoch: 2900, loss: 2.68133\n",
      "Epoch: 2950, loss: 2.67916\n",
      "Epoch: 3000, loss: 2.67713\n",
      "Epoch: 3050, loss: 2.67524\n",
      "Epoch: 3100, loss: 2.67345\n",
      "Epoch: 3150, loss: 2.67177\n",
      "Epoch: 3200, loss: 2.67018\n",
      "Epoch: 3250, loss: 2.66866\n",
      "Epoch: 3300, loss: 2.66721\n",
      "Epoch: 3350, loss: 2.66582\n",
      "Epoch: 3400, loss: 2.66448\n",
      "Epoch: 3450, loss: 2.66318\n",
      "Epoch: 3500, loss: 2.66191\n",
      "Epoch: 3550, loss: 2.66067\n",
      "Epoch: 3600, loss: 2.65945\n",
      "Epoch: 3650, loss: 2.65825\n",
      "Epoch: 3700, loss: 2.65705\n",
      "Epoch: 3750, loss: 2.65585\n",
      "Epoch: 3800, loss: 2.65465\n",
      "Epoch: 3850, loss: 2.65344\n",
      "Epoch: 3900, loss: 2.65220\n",
      "Epoch: 3950, loss: 2.65095\n",
      "Epoch: 4000, loss: 2.64966\n",
      "Epoch: 4050, loss: 2.64833\n",
      "Epoch: 4100, loss: 2.64695\n",
      "Epoch: 4150, loss: 2.64553\n",
      "Epoch: 4200, loss: 2.64404\n",
      "Epoch: 4250, loss: 2.64248\n",
      "Epoch: 4300, loss: 2.64084\n",
      "Epoch: 4350, loss: 2.63911\n",
      "Epoch: 4400, loss: 2.63729\n",
      "Epoch: 4450, loss: 2.63535\n",
      "Epoch: 4500, loss: 2.63330\n",
      "Epoch: 4550, loss: 2.63112\n",
      "Epoch: 4600, loss: 2.62880\n",
      "Epoch: 4650, loss: 2.62633\n",
      "Epoch: 4700, loss: 2.62370\n",
      "Epoch: 4750, loss: 2.62090\n",
      "Epoch: 4800, loss: 2.61792\n",
      "Epoch: 4850, loss: 2.61476\n",
      "Epoch: 4900, loss: 2.61140\n",
      "Epoch: 4950, loss: 2.60785\n"
     ]
    },
    {
     "data": {
      "image/png": "[encoded data removed]",
      "text/plain": [
       "<Figure size 432x288 with 1 Axes>"
      ]
     },
     "metadata": {
      "needs_background": "light"
     },
     "output_type": "display_data"
    }
   ],
   "source": [
    "num_epochs = 5000\n",
    "learning_rate = 0.0001\n",
    "\n",
    "input_size = len(onehot_x[0])\n",
    "hidden_size = 8\n",
    "num_layers = 2\n",
    "num_classes = len(onehot_x[0])\n",
    "\n",
    "lstm = LSTM(num_classes, input_size, hidden_size, num_layers)\n",
    "\n",
    "#classfication\n",
    "criterion = torch.nn.CrossEntropyLoss()\n",
    "optimizer = torch.optim.Adam(lstm.parameters(), lr=learning_rate, weight_decay=0.001)\n",
    "\n",
    "loss_ = [0]\n",
    "epoch_ = [0]\n",
    "accu_train = []\n",
    "accu_test = []\n",
    "\n",
    "# Train the model\n",
    "for epoch in range(num_epochs):\n",
    "    outputs = lstm(trainX)\n",
    "    \n",
    "    optimizer.zero_grad()\n",
    "    loss = criterion(outputs, trainY_l)      #trainY one-hot index\n",
    "    loss.backward()\n",
    "    \n",
    "    optimizer.step()\n",
    "    if epoch % 50 == 0:\n",
    "        print(\"Epoch: %d, loss: %1.5f\" % (epoch, loss.item()))\n",
    "        accu_train.append(evaluate(lstm, trainX, trainY_l))\n",
    "        accu_test.append(evaluate(lstm, testX, testY_l))\n",
    "        loss_.append(loss.item())\n",
    "        epoch_.append(epoch)\n",
    "   \n",
    "plt.plot(epoch_[1:],loss_[1:])\n",
    "plt.xlabel('epoch')\n",
    "plt.ylabel('loss')\n",
    "plt.title('Experiment Result')\n",
    "plt.show()"
   ]
  },
  {
   "cell_type": "markdown",
   "metadata": {},
   "source": [
    "Test"
   ]
  },
  {
   "cell_type": "code",
   "execution_count": 8,
   "metadata": {},
   "outputs": [
    {
     "data": {
      "image/png": "[encoded data removed]",
      "text/plain": [
       "<Figure size 432x288 with 1 Axes>"
      ]
     },
     "metadata": {
      "needs_background": "light"
     },
     "output_type": "display_data"
    }
   ],
   "source": [
    "plt.plot(epoch_[1:],np.array(accu_train)[:,0], label='top-1 accuracy')\n",
    "plt.plot(epoch_[1:],np.array(accu_train)[:,1], label='top-3 accuracy')\n",
    "plt.plot(epoch_[1:],np.array(accu_train)[:,2], label='top-5 accuracy')\n",
    "plt.xlabel('epoch')\n",
    "plt.ylabel('Top-k accuracy')\n",
    "plt.legend()\n",
    "plt.title('Train')\n",
    "plt.show()"
   ]
  },
  {
   "cell_type": "code",
   "execution_count": 9,
   "metadata": {},
   "outputs": [
    {
     "data": {
      "image/png": "[encoded data removed]",
      "text/plain": [
       "<Figure size 432x288 with 1 Axes>"
      ]
     },
     "metadata": {
      "needs_background": "light"
     },
     "output_type": "display_data"
    }
   ],
   "source": [
    "plt.plot(epoch_[1:],np.array(accu_test)[:,0], label='top-1 accuracy')\n",
    "plt.plot(epoch_[1:],np.array(accu_test)[:,1], label='top-3 accuracy')\n",
    "plt.plot(epoch_[1:],np.array(accu_test)[:,2], label='top-5 accuracy')\n",
    "plt.xlabel('epoch')\n",
    "plt.ylabel('Top-k accuracy')\n",
    "plt.legend()\n",
    "plt.title('Test')\n",
    "plt.show()"
   ]
  },
  {
   "cell_type": "code",
   "execution_count": null,
   "metadata": {},
   "outputs": [],
   "source": []
  }
 ],
 "metadata": {
  "interpreter": {
   "hash": "e53feab0ca0adc137b22b00ad5c1c2093b5caa5612a818875fa8af906c4039f4"
  },
  "kernelspec": {
   "display_name": "Python 3 (ipykernel)",
   "language": "python",
   "name": "python3"
  },
  "language_info": {
   "codemirror_mode": {
    "name": "ipython",
    "version": 3
   },
   "file_extension": ".py",
   "mimetype": "text/x-python",
   "name": "python",
   "nbconvert_exporter": "python",
   "pygments_lexer": "ipython3",
   "version": "3.7.7"
  }
 },
 "nbformat": 4,
 "nbformat_minor": 2
}
